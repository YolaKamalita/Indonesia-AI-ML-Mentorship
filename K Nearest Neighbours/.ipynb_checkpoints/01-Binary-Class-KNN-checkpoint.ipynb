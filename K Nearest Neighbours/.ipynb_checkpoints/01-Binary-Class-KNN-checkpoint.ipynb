{
 "cells": [
  {
   "cell_type": "markdown",
   "metadata": {},
   "source": [
    "ML Hands-on as part of Python for Machine Learning and Data Science MasterClass 2021 (Jose Portilla)"
   ]
  },
  {
   "cell_type": "markdown",
   "metadata": {},
   "source": [
    "# Import Packages"
   ]
  },
  {
   "cell_type": "code",
   "execution_count": 1,
   "metadata": {},
   "outputs": [],
   "source": [
    "import numpy as np\n",
    "import pandas as pd\n",
    "import matplotlib.pyplot as plt\n",
    "import seaborn as sns"
   ]
  },
  {
   "cell_type": "markdown",
   "metadata": {},
   "source": [
    "# Data"
   ]
  },
  {
   "cell_type": "markdown",
   "metadata": {},
   "source": [
    "Dataset consists of two gene expression that used to determine Cancer ('1') or Not Cancer ('0')"
   ]
  },
  {
   "cell_type": "code",
   "execution_count": 3,
   "metadata": {},
   "outputs": [],
   "source": [
    "df = pd.read_csv('gene_expression.csv')"
   ]
  },
  {
   "cell_type": "code",
   "execution_count": 4,
   "metadata": {},
   "outputs": [
    {
     "data": {
      "text/html": [
       "<div>\n",
       "<style scoped>\n",
       "    .dataframe tbody tr th:only-of-type {\n",
       "        vertical-align: middle;\n",
       "    }\n",
       "\n",
       "    .dataframe tbody tr th {\n",
       "        vertical-align: top;\n",
       "    }\n",
       "\n",
       "    .dataframe thead th {\n",
       "        text-align: right;\n",
       "    }\n",
       "</style>\n",
       "<table border=\"1\" class=\"dataframe\">\n",
       "  <thead>\n",
       "    <tr style=\"text-align: right;\">\n",
       "      <th></th>\n",
       "      <th>Gene One</th>\n",
       "      <th>Gene Two</th>\n",
       "      <th>Cancer Present</th>\n",
       "    </tr>\n",
       "  </thead>\n",
       "  <tbody>\n",
       "    <tr>\n",
       "      <th>0</th>\n",
       "      <td>4.3</td>\n",
       "      <td>3.9</td>\n",
       "      <td>1</td>\n",
       "    </tr>\n",
       "    <tr>\n",
       "      <th>1</th>\n",
       "      <td>2.5</td>\n",
       "      <td>6.3</td>\n",
       "      <td>0</td>\n",
       "    </tr>\n",
       "    <tr>\n",
       "      <th>2</th>\n",
       "      <td>5.7</td>\n",
       "      <td>3.9</td>\n",
       "      <td>1</td>\n",
       "    </tr>\n",
       "    <tr>\n",
       "      <th>3</th>\n",
       "      <td>6.1</td>\n",
       "      <td>6.2</td>\n",
       "      <td>0</td>\n",
       "    </tr>\n",
       "    <tr>\n",
       "      <th>4</th>\n",
       "      <td>7.4</td>\n",
       "      <td>3.4</td>\n",
       "      <td>1</td>\n",
       "    </tr>\n",
       "  </tbody>\n",
       "</table>\n",
       "</div>"
      ],
      "text/plain": [
       "   Gene One  Gene Two  Cancer Present\n",
       "0       4.3       3.9               1\n",
       "1       2.5       6.3               0\n",
       "2       5.7       3.9               1\n",
       "3       6.1       6.2               0\n",
       "4       7.4       3.4               1"
      ]
     },
     "execution_count": 4,
     "metadata": {},
     "output_type": "execute_result"
    }
   ],
   "source": [
    "df.head()"
   ]
  },
  {
   "cell_type": "code",
   "execution_count": 6,
   "metadata": {},
   "outputs": [
    {
     "data": {
      "text/plain": [
       "(3000, 3)"
      ]
     },
     "execution_count": 6,
     "metadata": {},
     "output_type": "execute_result"
    }
   ],
   "source": [
    "df.shape"
   ]
  },
  {
   "cell_type": "code",
   "execution_count": 7,
   "metadata": {},
   "outputs": [
    {
     "name": "stdout",
     "output_type": "stream",
     "text": [
      "<class 'pandas.core.frame.DataFrame'>\n",
      "RangeIndex: 3000 entries, 0 to 2999\n",
      "Data columns (total 3 columns):\n",
      " #   Column          Non-Null Count  Dtype  \n",
      "---  ------          --------------  -----  \n",
      " 0   Gene One        3000 non-null   float64\n",
      " 1   Gene Two        3000 non-null   float64\n",
      " 2   Cancer Present  3000 non-null   int64  \n",
      "dtypes: float64(2), int64(1)\n",
      "memory usage: 70.4 KB\n"
     ]
    }
   ],
   "source": [
    "df.info()"
   ]
  },
  {
   "cell_type": "code",
   "execution_count": 9,
   "metadata": {},
   "outputs": [
    {
     "data": {
      "text/html": [
       "<div>\n",
       "<style scoped>\n",
       "    .dataframe tbody tr th:only-of-type {\n",
       "        vertical-align: middle;\n",
       "    }\n",
       "\n",
       "    .dataframe tbody tr th {\n",
       "        vertical-align: top;\n",
       "    }\n",
       "\n",
       "    .dataframe thead th {\n",
       "        text-align: right;\n",
       "    }\n",
       "</style>\n",
       "<table border=\"1\" class=\"dataframe\">\n",
       "  <thead>\n",
       "    <tr style=\"text-align: right;\">\n",
       "      <th></th>\n",
       "      <th>Gene One</th>\n",
       "      <th>Gene Two</th>\n",
       "      <th>Cancer Present</th>\n",
       "    </tr>\n",
       "  </thead>\n",
       "  <tbody>\n",
       "    <tr>\n",
       "      <th>count</th>\n",
       "      <td>3000.000000</td>\n",
       "      <td>3000.000000</td>\n",
       "      <td>3000.000000</td>\n",
       "    </tr>\n",
       "    <tr>\n",
       "      <th>mean</th>\n",
       "      <td>5.600133</td>\n",
       "      <td>5.410467</td>\n",
       "      <td>0.500000</td>\n",
       "    </tr>\n",
       "    <tr>\n",
       "      <th>std</th>\n",
       "      <td>1.828388</td>\n",
       "      <td>1.729081</td>\n",
       "      <td>0.500083</td>\n",
       "    </tr>\n",
       "    <tr>\n",
       "      <th>min</th>\n",
       "      <td>1.000000</td>\n",
       "      <td>1.000000</td>\n",
       "      <td>0.000000</td>\n",
       "    </tr>\n",
       "    <tr>\n",
       "      <th>25%</th>\n",
       "      <td>4.300000</td>\n",
       "      <td>4.000000</td>\n",
       "      <td>0.000000</td>\n",
       "    </tr>\n",
       "    <tr>\n",
       "      <th>50%</th>\n",
       "      <td>5.600000</td>\n",
       "      <td>5.400000</td>\n",
       "      <td>0.500000</td>\n",
       "    </tr>\n",
       "    <tr>\n",
       "      <th>75%</th>\n",
       "      <td>6.900000</td>\n",
       "      <td>6.700000</td>\n",
       "      <td>1.000000</td>\n",
       "    </tr>\n",
       "    <tr>\n",
       "      <th>max</th>\n",
       "      <td>10.000000</td>\n",
       "      <td>10.000000</td>\n",
       "      <td>1.000000</td>\n",
       "    </tr>\n",
       "  </tbody>\n",
       "</table>\n",
       "</div>"
      ],
      "text/plain": [
       "          Gene One     Gene Two  Cancer Present\n",
       "count  3000.000000  3000.000000     3000.000000\n",
       "mean      5.600133     5.410467        0.500000\n",
       "std       1.828388     1.729081        0.500083\n",
       "min       1.000000     1.000000        0.000000\n",
       "25%       4.300000     4.000000        0.000000\n",
       "50%       5.600000     5.400000        0.500000\n",
       "75%       6.900000     6.700000        1.000000\n",
       "max      10.000000    10.000000        1.000000"
      ]
     },
     "execution_count": 9,
     "metadata": {},
     "output_type": "execute_result"
    }
   ],
   "source": [
    "df.describe()"
   ]
  },
  {
   "cell_type": "markdown",
   "metadata": {},
   "source": [
    "# Exploratory Data Analysis (EDA)"
   ]
  },
  {
   "cell_type": "code",
   "execution_count": 10,
   "metadata": {},
   "outputs": [
    {
     "data": {
      "text/plain": [
       "<matplotlib.axes._subplots.AxesSubplot at 0x1a23ac9a90>"
      ]
     },
     "execution_count": 10,
     "metadata": {},
     "output_type": "execute_result"
    },
    {
     "data": {
      "image/png": "[encoded data removed]",
      "text/plain": [
       "<Figure size 432x288 with 1 Axes>"
      ]
     },
     "metadata": {
      "needs_background": "light"
     },
     "output_type": "display_data"
    }
   ],
   "source": [
    "sns.countplot(df['Cancer Present'])"
   ]
  },
  {
   "cell_type": "code",
   "execution_count": 11,
   "metadata": {},
   "outputs": [
    {
     "data": {
      "text/plain": [
       "<seaborn.axisgrid.PairGrid at 0x1a23b09f50>"
      ]
     },
     "execution_count": 11,
     "metadata": {},
     "output_type": "execute_result"
    },
    {
     "data": {
      "image/png": "[encoded data removed]",
      "text/plain": [
       "<Figure size 444.125x360 with 6 Axes>"
      ]
     },
     "metadata": {
      "needs_background": "light"
     },
     "output_type": "display_data"
    }
   ],
   "source": [
    "sns.pairplot(df, hue='Cancer Present')"
   ]
  },
  {
   "cell_type": "markdown",
   "metadata": {},
   "source": [
    "# K Nearest Neighbours"
   ]
  },
  {
   "cell_type": "markdown",
   "metadata": {},
   "source": [
    "### Train & Test Split | Scaling Data"
   ]
  },
  {
   "cell_type": "code",
   "execution_count": 12,
   "metadata": {},
   "outputs": [],
   "source": [
    "X = df.drop('Cancer Present',axis=1)\n",
    "y = df['Cancer Present']"
   ]
  },
  {
   "cell_type": "code",
   "execution_count": 13,
   "metadata": {},
   "outputs": [],
   "source": [
    "from sklearn.model_selection import train_test_split\n",
    "\n",
    "X_train, X_test, y_train, y_test = train_test_split(X, y, test_size=0.3, random_state=101)"
   ]
  },
  {
   "cell_type": "code",
   "execution_count": 14,
   "metadata": {},
   "outputs": [],
   "source": [
    "from sklearn.preprocessing import StandardScaler\n",
    "\n",
    "scaler = StandardScaler()\n",
    "\n",
    "scaled_X_train = scaler.fit_transform(X_train)\n",
    "scaled_X_test = scaler.transform(X_test)"
   ]
  },
  {
   "cell_type": "markdown",
   "metadata": {},
   "source": [
    "### Model"
   ]
  },
  {
   "cell_type": "code",
   "execution_count": 18,
   "metadata": {},
   "outputs": [],
   "source": [
    "from sklearn.neighbors import KNeighborsClassifier"
   ]
  },
  {
   "cell_type": "code",
   "execution_count": 39,
   "metadata": {},
   "outputs": [],
   "source": [
    "from sklearn.metrics import classification_report,confusion_matrix,accuracy_score,plot_confusion_matrix"
   ]
  },
  {
   "cell_type": "markdown",
   "metadata": {},
   "source": [
    "### Elbow Method for Choosing K"
   ]
  },
  {
   "cell_type": "code",
   "execution_count": 20,
   "metadata": {},
   "outputs": [],
   "source": [
    "test_error_rates = []\n",
    "\n",
    "for k in range(1,30):\n",
    "    knn_model = KNeighborsClassifier(n_neighbors=k)\n",
    "    knn_model.fit(scaled_X_train,y_train) \n",
    "   \n",
    "    y_pred_test = knn_model.predict(scaled_X_test)\n",
    "    \n",
    "    test_error = 1 - accuracy_score(y_test,y_pred_test)\n",
    "    test_error_rates.append(test_error)"
   ]
  },
  {
   "cell_type": "code",
   "execution_count": 23,
   "metadata": {},
   "outputs": [
    {
     "data": {
      "text/plain": [
       "Text(0.5, 0, 'K Value')"
      ]
     },
     "execution_count": 23,
     "metadata": {},
     "output_type": "execute_result"
    },
    {
     "data": {
      "image/png": "[encoded data removed]",
      "text/plain": [
       "<Figure size 800x400 with 1 Axes>"
      ]
     },
     "metadata": {
      "needs_background": "light"
     },
     "output_type": "display_data"
    }
   ],
   "source": [
    "plt.figure(figsize=(8,4),dpi=100)\n",
    "plt.plot(range(1,30), test_error_rates, label='Test Error')\n",
    "plt.legend()\n",
    "plt.ylabel('Error Rate')\n",
    "plt.xlabel(\"K Value\")"
   ]
  },
  {
   "cell_type": "markdown",
   "metadata": {},
   "source": [
    "### GridSearchCV for Choosing K"
   ]
  },
  {
   "cell_type": "code",
   "execution_count": 24,
   "metadata": {},
   "outputs": [],
   "source": [
    "scaler = StandardScaler()\n",
    "knn = KNeighborsClassifier()\n",
    "\n",
    "operations = [('scaler',scaler),('knn',knn)]"
   ]
  },
  {
   "cell_type": "code",
   "execution_count": 25,
   "metadata": {},
   "outputs": [],
   "source": [
    "from sklearn.pipeline import Pipeline\n",
    "\n",
    "pipe = Pipeline(operations)"
   ]
  },
  {
   "cell_type": "code",
   "execution_count": 29,
   "metadata": {},
   "outputs": [
    {
     "data": {
      "text/plain": [
       "GridSearchCV(cv=5,\n",
       "             estimator=Pipeline(steps=[('scaler', StandardScaler()),\n",
       "                                       ('knn', KNeighborsClassifier())]),\n",
       "             param_grid={'knn__n_neighbors': [1, 2, 3, 4, 5, 6, 7, 8, 9, 10, 11,\n",
       "                                              12, 13, 14, 15, 16, 17, 18, 19,\n",
       "                                              20, 21, 22, 23, 24, 25, 26, 27,\n",
       "                                              28, 29]},\n",
       "             scoring='accuracy')"
      ]
     },
     "execution_count": 29,
     "metadata": {},
     "output_type": "execute_result"
    }
   ],
   "source": [
    "from sklearn.model_selection import GridSearchCV\n",
    "\n",
    "k_values = list(range(1,30))\n",
    "param_grid = {'knn__n_neighbors': k_values}\n",
    "\n",
    "full_cv_classifier = GridSearchCV(pipe,param_grid,cv=5,scoring='accuracy')\n",
    "\n",
    "full_cv_classifier.fit(X_train,y_train)"
   ]
  },
  {
   "cell_type": "code",
   "execution_count": 30,
   "metadata": {},
   "outputs": [
    {
     "data": {
      "text/plain": [
       "{'memory': None,\n",
       " 'steps': [('scaler', StandardScaler()),\n",
       "  ('knn', KNeighborsClassifier(n_neighbors=20))],\n",
       " 'verbose': False,\n",
       " 'scaler': StandardScaler(),\n",
       " 'knn': KNeighborsClassifier(n_neighbors=20),\n",
       " 'scaler__copy': True,\n",
       " 'scaler__with_mean': True,\n",
       " 'scaler__with_std': True,\n",
       " 'knn__algorithm': 'auto',\n",
       " 'knn__leaf_size': 30,\n",
       " 'knn__metric': 'minkowski',\n",
       " 'knn__metric_params': None,\n",
       " 'knn__n_jobs': None,\n",
       " 'knn__n_neighbors': 20,\n",
       " 'knn__p': 2,\n",
       " 'knn__weights': 'uniform'}"
      ]
     },
     "execution_count": 30,
     "metadata": {},
     "output_type": "execute_result"
    }
   ],
   "source": [
    "full_cv_classifier.best_estimator_.get_params()"
   ]
  },
  {
   "cell_type": "code",
   "execution_count": 31,
   "metadata": {},
   "outputs": [
    {
     "data": {
      "text/html": [
       "<div>\n",
       "<style scoped>\n",
       "    .dataframe tbody tr th:only-of-type {\n",
       "        vertical-align: middle;\n",
       "    }\n",
       "\n",
       "    .dataframe tbody tr th {\n",
       "        vertical-align: top;\n",
       "    }\n",
       "\n",
       "    .dataframe thead th {\n",
       "        text-align: right;\n",
       "    }\n",
       "</style>\n",
       "<table border=\"1\" class=\"dataframe\">\n",
       "  <thead>\n",
       "    <tr style=\"text-align: right;\">\n",
       "      <th></th>\n",
       "      <th>mean_fit_time</th>\n",
       "      <th>std_fit_time</th>\n",
       "      <th>mean_score_time</th>\n",
       "      <th>std_score_time</th>\n",
       "      <th>param_knn__n_neighbors</th>\n",
       "      <th>params</th>\n",
       "      <th>split0_test_score</th>\n",
       "      <th>split1_test_score</th>\n",
       "      <th>split2_test_score</th>\n",
       "      <th>split3_test_score</th>\n",
       "      <th>split4_test_score</th>\n",
       "      <th>mean_test_score</th>\n",
       "      <th>std_test_score</th>\n",
       "      <th>rank_test_score</th>\n",
       "    </tr>\n",
       "  </thead>\n",
       "  <tbody>\n",
       "    <tr>\n",
       "      <th>0</th>\n",
       "      <td>0.006178</td>\n",
       "      <td>0.002511</td>\n",
       "      <td>0.013644</td>\n",
       "      <td>0.002855</td>\n",
       "      <td>1</td>\n",
       "      <td>{'knn__n_neighbors': 1}</td>\n",
       "      <td>0.904762</td>\n",
       "      <td>0.873810</td>\n",
       "      <td>0.890476</td>\n",
       "      <td>0.892857</td>\n",
       "      <td>0.909524</td>\n",
       "      <td>0.894286</td>\n",
       "      <td>0.012472</td>\n",
       "      <td>29</td>\n",
       "    </tr>\n",
       "    <tr>\n",
       "      <th>1</th>\n",
       "      <td>0.004104</td>\n",
       "      <td>0.000053</td>\n",
       "      <td>0.011688</td>\n",
       "      <td>0.000693</td>\n",
       "      <td>2</td>\n",
       "      <td>{'knn__n_neighbors': 2}</td>\n",
       "      <td>0.897619</td>\n",
       "      <td>0.895238</td>\n",
       "      <td>0.909524</td>\n",
       "      <td>0.914286</td>\n",
       "      <td>0.895238</td>\n",
       "      <td>0.902381</td>\n",
       "      <td>0.007968</td>\n",
       "      <td>28</td>\n",
       "    </tr>\n",
       "    <tr>\n",
       "      <th>2</th>\n",
       "      <td>0.004153</td>\n",
       "      <td>0.000099</td>\n",
       "      <td>0.011550</td>\n",
       "      <td>0.000381</td>\n",
       "      <td>3</td>\n",
       "      <td>{'knn__n_neighbors': 3}</td>\n",
       "      <td>0.921429</td>\n",
       "      <td>0.909524</td>\n",
       "      <td>0.919048</td>\n",
       "      <td>0.916667</td>\n",
       "      <td>0.916667</td>\n",
       "      <td>0.916667</td>\n",
       "      <td>0.003984</td>\n",
       "      <td>27</td>\n",
       "    </tr>\n",
       "    <tr>\n",
       "      <th>3</th>\n",
       "      <td>0.004684</td>\n",
       "      <td>0.000938</td>\n",
       "      <td>0.012155</td>\n",
       "      <td>0.001515</td>\n",
       "      <td>4</td>\n",
       "      <td>{'knn__n_neighbors': 4}</td>\n",
       "      <td>0.930952</td>\n",
       "      <td>0.909524</td>\n",
       "      <td>0.930952</td>\n",
       "      <td>0.911905</td>\n",
       "      <td>0.909524</td>\n",
       "      <td>0.918571</td>\n",
       "      <td>0.010146</td>\n",
       "      <td>26</td>\n",
       "    </tr>\n",
       "    <tr>\n",
       "      <th>4</th>\n",
       "      <td>0.004108</td>\n",
       "      <td>0.000048</td>\n",
       "      <td>0.011719</td>\n",
       "      <td>0.000570</td>\n",
       "      <td>5</td>\n",
       "      <td>{'knn__n_neighbors': 5}</td>\n",
       "      <td>0.923810</td>\n",
       "      <td>0.916667</td>\n",
       "      <td>0.933333</td>\n",
       "      <td>0.921429</td>\n",
       "      <td>0.928571</td>\n",
       "      <td>0.924762</td>\n",
       "      <td>0.005754</td>\n",
       "      <td>24</td>\n",
       "    </tr>\n",
       "    <tr>\n",
       "      <th>5</th>\n",
       "      <td>0.004340</td>\n",
       "      <td>0.000241</td>\n",
       "      <td>0.011641</td>\n",
       "      <td>0.000187</td>\n",
       "      <td>6</td>\n",
       "      <td>{'knn__n_neighbors': 6}</td>\n",
       "      <td>0.926190</td>\n",
       "      <td>0.919048</td>\n",
       "      <td>0.921429</td>\n",
       "      <td>0.926190</td>\n",
       "      <td>0.916667</td>\n",
       "      <td>0.921905</td>\n",
       "      <td>0.003810</td>\n",
       "      <td>25</td>\n",
       "    </tr>\n",
       "    <tr>\n",
       "      <th>6</th>\n",
       "      <td>0.005454</td>\n",
       "      <td>0.001036</td>\n",
       "      <td>0.015803</td>\n",
       "      <td>0.003393</td>\n",
       "      <td>7</td>\n",
       "      <td>{'knn__n_neighbors': 7}</td>\n",
       "      <td>0.928571</td>\n",
       "      <td>0.914286</td>\n",
       "      <td>0.933333</td>\n",
       "      <td>0.928571</td>\n",
       "      <td>0.923810</td>\n",
       "      <td>0.925714</td>\n",
       "      <td>0.006459</td>\n",
       "      <td>22</td>\n",
       "    </tr>\n",
       "    <tr>\n",
       "      <th>7</th>\n",
       "      <td>0.004944</td>\n",
       "      <td>0.000445</td>\n",
       "      <td>0.013496</td>\n",
       "      <td>0.000679</td>\n",
       "      <td>8</td>\n",
       "      <td>{'knn__n_neighbors': 8}</td>\n",
       "      <td>0.926190</td>\n",
       "      <td>0.919048</td>\n",
       "      <td>0.938095</td>\n",
       "      <td>0.930952</td>\n",
       "      <td>0.916667</td>\n",
       "      <td>0.926190</td>\n",
       "      <td>0.007825</td>\n",
       "      <td>20</td>\n",
       "    </tr>\n",
       "    <tr>\n",
       "      <th>8</th>\n",
       "      <td>0.004149</td>\n",
       "      <td>0.000078</td>\n",
       "      <td>0.012682</td>\n",
       "      <td>0.000443</td>\n",
       "      <td>9</td>\n",
       "      <td>{'knn__n_neighbors': 9}</td>\n",
       "      <td>0.926190</td>\n",
       "      <td>0.909524</td>\n",
       "      <td>0.938095</td>\n",
       "      <td>0.930952</td>\n",
       "      <td>0.930952</td>\n",
       "      <td>0.927143</td>\n",
       "      <td>0.009595</td>\n",
       "      <td>17</td>\n",
       "    </tr>\n",
       "    <tr>\n",
       "      <th>9</th>\n",
       "      <td>0.004135</td>\n",
       "      <td>0.000110</td>\n",
       "      <td>0.011707</td>\n",
       "      <td>0.000163</td>\n",
       "      <td>10</td>\n",
       "      <td>{'knn__n_neighbors': 10}</td>\n",
       "      <td>0.926190</td>\n",
       "      <td>0.909524</td>\n",
       "      <td>0.942857</td>\n",
       "      <td>0.938095</td>\n",
       "      <td>0.919048</td>\n",
       "      <td>0.927143</td>\n",
       "      <td>0.012196</td>\n",
       "      <td>17</td>\n",
       "    </tr>\n",
       "    <tr>\n",
       "      <th>10</th>\n",
       "      <td>0.004207</td>\n",
       "      <td>0.000056</td>\n",
       "      <td>0.011818</td>\n",
       "      <td>0.000179</td>\n",
       "      <td>11</td>\n",
       "      <td>{'knn__n_neighbors': 11}</td>\n",
       "      <td>0.928571</td>\n",
       "      <td>0.907143</td>\n",
       "      <td>0.940476</td>\n",
       "      <td>0.928571</td>\n",
       "      <td>0.919048</td>\n",
       "      <td>0.924762</td>\n",
       "      <td>0.011127</td>\n",
       "      <td>23</td>\n",
       "    </tr>\n",
       "    <tr>\n",
       "      <th>11</th>\n",
       "      <td>0.004343</td>\n",
       "      <td>0.000430</td>\n",
       "      <td>0.013299</td>\n",
       "      <td>0.001736</td>\n",
       "      <td>12</td>\n",
       "      <td>{'knn__n_neighbors': 12}</td>\n",
       "      <td>0.933333</td>\n",
       "      <td>0.907143</td>\n",
       "      <td>0.940476</td>\n",
       "      <td>0.930952</td>\n",
       "      <td>0.923810</td>\n",
       "      <td>0.927143</td>\n",
       "      <td>0.011329</td>\n",
       "      <td>17</td>\n",
       "    </tr>\n",
       "    <tr>\n",
       "      <th>12</th>\n",
       "      <td>0.004233</td>\n",
       "      <td>0.000121</td>\n",
       "      <td>0.012228</td>\n",
       "      <td>0.000373</td>\n",
       "      <td>13</td>\n",
       "      <td>{'knn__n_neighbors': 13}</td>\n",
       "      <td>0.938095</td>\n",
       "      <td>0.907143</td>\n",
       "      <td>0.942857</td>\n",
       "      <td>0.926190</td>\n",
       "      <td>0.923810</td>\n",
       "      <td>0.927619</td>\n",
       "      <td>0.012472</td>\n",
       "      <td>15</td>\n",
       "    </tr>\n",
       "    <tr>\n",
       "      <th>13</th>\n",
       "      <td>0.004252</td>\n",
       "      <td>0.000149</td>\n",
       "      <td>0.012118</td>\n",
       "      <td>0.000359</td>\n",
       "      <td>14</td>\n",
       "      <td>{'knn__n_neighbors': 14}</td>\n",
       "      <td>0.935714</td>\n",
       "      <td>0.911905</td>\n",
       "      <td>0.942857</td>\n",
       "      <td>0.930952</td>\n",
       "      <td>0.919048</td>\n",
       "      <td>0.928095</td>\n",
       "      <td>0.011208</td>\n",
       "      <td>13</td>\n",
       "    </tr>\n",
       "    <tr>\n",
       "      <th>14</th>\n",
       "      <td>0.004728</td>\n",
       "      <td>0.000932</td>\n",
       "      <td>0.012779</td>\n",
       "      <td>0.001004</td>\n",
       "      <td>15</td>\n",
       "      <td>{'knn__n_neighbors': 15}</td>\n",
       "      <td>0.940476</td>\n",
       "      <td>0.907143</td>\n",
       "      <td>0.940476</td>\n",
       "      <td>0.921429</td>\n",
       "      <td>0.921429</td>\n",
       "      <td>0.926190</td>\n",
       "      <td>0.012778</td>\n",
       "      <td>21</td>\n",
       "    </tr>\n",
       "    <tr>\n",
       "      <th>15</th>\n",
       "      <td>0.004297</td>\n",
       "      <td>0.000366</td>\n",
       "      <td>0.013189</td>\n",
       "      <td>0.001079</td>\n",
       "      <td>16</td>\n",
       "      <td>{'knn__n_neighbors': 16}</td>\n",
       "      <td>0.940476</td>\n",
       "      <td>0.909524</td>\n",
       "      <td>0.940476</td>\n",
       "      <td>0.926190</td>\n",
       "      <td>0.926190</td>\n",
       "      <td>0.928571</td>\n",
       "      <td>0.011468</td>\n",
       "      <td>12</td>\n",
       "    </tr>\n",
       "    <tr>\n",
       "      <th>16</th>\n",
       "      <td>0.004746</td>\n",
       "      <td>0.000624</td>\n",
       "      <td>0.013187</td>\n",
       "      <td>0.000626</td>\n",
       "      <td>17</td>\n",
       "      <td>{'knn__n_neighbors': 17}</td>\n",
       "      <td>0.938095</td>\n",
       "      <td>0.909524</td>\n",
       "      <td>0.938095</td>\n",
       "      <td>0.921429</td>\n",
       "      <td>0.930952</td>\n",
       "      <td>0.927619</td>\n",
       "      <td>0.010921</td>\n",
       "      <td>16</td>\n",
       "    </tr>\n",
       "    <tr>\n",
       "      <th>17</th>\n",
       "      <td>0.004136</td>\n",
       "      <td>0.000051</td>\n",
       "      <td>0.012344</td>\n",
       "      <td>0.000332</td>\n",
       "      <td>18</td>\n",
       "      <td>{'knn__n_neighbors': 18}</td>\n",
       "      <td>0.940476</td>\n",
       "      <td>0.911905</td>\n",
       "      <td>0.942857</td>\n",
       "      <td>0.926190</td>\n",
       "      <td>0.928571</td>\n",
       "      <td>0.930000</td>\n",
       "      <td>0.011127</td>\n",
       "      <td>8</td>\n",
       "    </tr>\n",
       "    <tr>\n",
       "      <th>18</th>\n",
       "      <td>0.004269</td>\n",
       "      <td>0.000303</td>\n",
       "      <td>0.012265</td>\n",
       "      <td>0.000241</td>\n",
       "      <td>19</td>\n",
       "      <td>{'knn__n_neighbors': 19}</td>\n",
       "      <td>0.942857</td>\n",
       "      <td>0.911905</td>\n",
       "      <td>0.945238</td>\n",
       "      <td>0.923810</td>\n",
       "      <td>0.930952</td>\n",
       "      <td>0.930952</td>\n",
       "      <td>0.012326</td>\n",
       "      <td>3</td>\n",
       "    </tr>\n",
       "    <tr>\n",
       "      <th>19</th>\n",
       "      <td>0.004147</td>\n",
       "      <td>0.000093</td>\n",
       "      <td>0.012297</td>\n",
       "      <td>0.000183</td>\n",
       "      <td>20</td>\n",
       "      <td>{'knn__n_neighbors': 20}</td>\n",
       "      <td>0.942857</td>\n",
       "      <td>0.914286</td>\n",
       "      <td>0.945238</td>\n",
       "      <td>0.926190</td>\n",
       "      <td>0.930952</td>\n",
       "      <td>0.931905</td>\n",
       "      <td>0.011329</td>\n",
       "      <td>1</td>\n",
       "    </tr>\n",
       "    <tr>\n",
       "      <th>20</th>\n",
       "      <td>0.004252</td>\n",
       "      <td>0.000315</td>\n",
       "      <td>0.012380</td>\n",
       "      <td>0.000314</td>\n",
       "      <td>21</td>\n",
       "      <td>{'knn__n_neighbors': 21}</td>\n",
       "      <td>0.945238</td>\n",
       "      <td>0.911905</td>\n",
       "      <td>0.945238</td>\n",
       "      <td>0.921429</td>\n",
       "      <td>0.935714</td>\n",
       "      <td>0.931905</td>\n",
       "      <td>0.013265</td>\n",
       "      <td>2</td>\n",
       "    </tr>\n",
       "    <tr>\n",
       "      <th>21</th>\n",
       "      <td>0.004123</td>\n",
       "      <td>0.000049</td>\n",
       "      <td>0.012676</td>\n",
       "      <td>0.000354</td>\n",
       "      <td>22</td>\n",
       "      <td>{'knn__n_neighbors': 22}</td>\n",
       "      <td>0.942857</td>\n",
       "      <td>0.911905</td>\n",
       "      <td>0.942857</td>\n",
       "      <td>0.921429</td>\n",
       "      <td>0.928571</td>\n",
       "      <td>0.929524</td>\n",
       "      <td>0.012103</td>\n",
       "      <td>9</td>\n",
       "    </tr>\n",
       "    <tr>\n",
       "      <th>22</th>\n",
       "      <td>0.004316</td>\n",
       "      <td>0.000268</td>\n",
       "      <td>0.012711</td>\n",
       "      <td>0.000338</td>\n",
       "      <td>23</td>\n",
       "      <td>{'knn__n_neighbors': 23}</td>\n",
       "      <td>0.947619</td>\n",
       "      <td>0.911905</td>\n",
       "      <td>0.942857</td>\n",
       "      <td>0.921429</td>\n",
       "      <td>0.928571</td>\n",
       "      <td>0.930476</td>\n",
       "      <td>0.013248</td>\n",
       "      <td>7</td>\n",
       "    </tr>\n",
       "    <tr>\n",
       "      <th>23</th>\n",
       "      <td>0.004111</td>\n",
       "      <td>0.000093</td>\n",
       "      <td>0.012481</td>\n",
       "      <td>0.000296</td>\n",
       "      <td>24</td>\n",
       "      <td>{'knn__n_neighbors': 24}</td>\n",
       "      <td>0.942857</td>\n",
       "      <td>0.914286</td>\n",
       "      <td>0.945238</td>\n",
       "      <td>0.923810</td>\n",
       "      <td>0.928571</td>\n",
       "      <td>0.930952</td>\n",
       "      <td>0.011664</td>\n",
       "      <td>3</td>\n",
       "    </tr>\n",
       "    <tr>\n",
       "      <th>24</th>\n",
       "      <td>0.004111</td>\n",
       "      <td>0.000053</td>\n",
       "      <td>0.012517</td>\n",
       "      <td>0.000227</td>\n",
       "      <td>25</td>\n",
       "      <td>{'knn__n_neighbors': 25}</td>\n",
       "      <td>0.945238</td>\n",
       "      <td>0.911905</td>\n",
       "      <td>0.940476</td>\n",
       "      <td>0.923810</td>\n",
       "      <td>0.923810</td>\n",
       "      <td>0.929048</td>\n",
       "      <td>0.012178</td>\n",
       "      <td>10</td>\n",
       "    </tr>\n",
       "    <tr>\n",
       "      <th>25</th>\n",
       "      <td>0.004108</td>\n",
       "      <td>0.000101</td>\n",
       "      <td>0.013176</td>\n",
       "      <td>0.000889</td>\n",
       "      <td>26</td>\n",
       "      <td>{'knn__n_neighbors': 26}</td>\n",
       "      <td>0.940476</td>\n",
       "      <td>0.914286</td>\n",
       "      <td>0.942857</td>\n",
       "      <td>0.926190</td>\n",
       "      <td>0.928571</td>\n",
       "      <td>0.930476</td>\n",
       "      <td>0.010367</td>\n",
       "      <td>5</td>\n",
       "    </tr>\n",
       "    <tr>\n",
       "      <th>26</th>\n",
       "      <td>0.004188</td>\n",
       "      <td>0.000104</td>\n",
       "      <td>0.012732</td>\n",
       "      <td>0.000174</td>\n",
       "      <td>27</td>\n",
       "      <td>{'knn__n_neighbors': 27}</td>\n",
       "      <td>0.945238</td>\n",
       "      <td>0.911905</td>\n",
       "      <td>0.942857</td>\n",
       "      <td>0.926190</td>\n",
       "      <td>0.926190</td>\n",
       "      <td>0.930476</td>\n",
       "      <td>0.012271</td>\n",
       "      <td>5</td>\n",
       "    </tr>\n",
       "    <tr>\n",
       "      <th>27</th>\n",
       "      <td>0.004099</td>\n",
       "      <td>0.000058</td>\n",
       "      <td>0.013455</td>\n",
       "      <td>0.001465</td>\n",
       "      <td>28</td>\n",
       "      <td>{'knn__n_neighbors': 28}</td>\n",
       "      <td>0.942857</td>\n",
       "      <td>0.911905</td>\n",
       "      <td>0.940476</td>\n",
       "      <td>0.923810</td>\n",
       "      <td>0.926190</td>\n",
       "      <td>0.929048</td>\n",
       "      <td>0.011409</td>\n",
       "      <td>10</td>\n",
       "    </tr>\n",
       "    <tr>\n",
       "      <th>28</th>\n",
       "      <td>0.004096</td>\n",
       "      <td>0.000057</td>\n",
       "      <td>0.012637</td>\n",
       "      <td>0.000146</td>\n",
       "      <td>29</td>\n",
       "      <td>{'knn__n_neighbors': 29}</td>\n",
       "      <td>0.945238</td>\n",
       "      <td>0.911905</td>\n",
       "      <td>0.938095</td>\n",
       "      <td>0.926190</td>\n",
       "      <td>0.919048</td>\n",
       "      <td>0.928095</td>\n",
       "      <td>0.012178</td>\n",
       "      <td>13</td>\n",
       "    </tr>\n",
       "  </tbody>\n",
       "</table>\n",
       "</div>"
      ],
      "text/plain": [
       "    mean_fit_time  std_fit_time  mean_score_time  std_score_time  \\\n",
       "0        0.006178      0.002511         0.013644        0.002855   \n",
       "1        0.004104      0.000053         0.011688        0.000693   \n",
       "2        0.004153      0.000099         0.011550        0.000381   \n",
       "3        0.004684      0.000938         0.012155        0.001515   \n",
       "4        0.004108      0.000048         0.011719        0.000570   \n",
       "5        0.004340      0.000241         0.011641        0.000187   \n",
       "6        0.005454      0.001036         0.015803        0.003393   \n",
       "7        0.004944      0.000445         0.013496        0.000679   \n",
       "8        0.004149      0.000078         0.012682        0.000443   \n",
       "9        0.004135      0.000110         0.011707        0.000163   \n",
       "10       0.004207      0.000056         0.011818        0.000179   \n",
       "11       0.004343      0.000430         0.013299        0.001736   \n",
       "12       0.004233      0.000121         0.012228        0.000373   \n",
       "13       0.004252      0.000149         0.012118        0.000359   \n",
       "14       0.004728      0.000932         0.012779        0.001004   \n",
       "15       0.004297      0.000366         0.013189        0.001079   \n",
       "16       0.004746      0.000624         0.013187        0.000626   \n",
       "17       0.004136      0.000051         0.012344        0.000332   \n",
       "18       0.004269      0.000303         0.012265        0.000241   \n",
       "19       0.004147      0.000093         0.012297        0.000183   \n",
       "20       0.004252      0.000315         0.012380        0.000314   \n",
       "21       0.004123      0.000049         0.012676        0.000354   \n",
       "22       0.004316      0.000268         0.012711        0.000338   \n",
       "23       0.004111      0.000093         0.012481        0.000296   \n",
       "24       0.004111      0.000053         0.012517        0.000227   \n",
       "25       0.004108      0.000101         0.013176        0.000889   \n",
       "26       0.004188      0.000104         0.012732        0.000174   \n",
       "27       0.004099      0.000058         0.013455        0.001465   \n",
       "28       0.004096      0.000057         0.012637        0.000146   \n",
       "\n",
       "   param_knn__n_neighbors                    params  split0_test_score  \\\n",
       "0                       1   {'knn__n_neighbors': 1}           0.904762   \n",
       "1                       2   {'knn__n_neighbors': 2}           0.897619   \n",
       "2                       3   {'knn__n_neighbors': 3}           0.921429   \n",
       "3                       4   {'knn__n_neighbors': 4}           0.930952   \n",
       "4                       5   {'knn__n_neighbors': 5}           0.923810   \n",
       "5                       6   {'knn__n_neighbors': 6}           0.926190   \n",
       "6                       7   {'knn__n_neighbors': 7}           0.928571   \n",
       "7                       8   {'knn__n_neighbors': 8}           0.926190   \n",
       "8                       9   {'knn__n_neighbors': 9}           0.926190   \n",
       "9                      10  {'knn__n_neighbors': 10}           0.926190   \n",
       "10                     11  {'knn__n_neighbors': 11}           0.928571   \n",
       "11                     12  {'knn__n_neighbors': 12}           0.933333   \n",
       "12                     13  {'knn__n_neighbors': 13}           0.938095   \n",
       "13                     14  {'knn__n_neighbors': 14}           0.935714   \n",
       "14                     15  {'knn__n_neighbors': 15}           0.940476   \n",
       "15                     16  {'knn__n_neighbors': 16}           0.940476   \n",
       "16                     17  {'knn__n_neighbors': 17}           0.938095   \n",
       "17                     18  {'knn__n_neighbors': 18}           0.940476   \n",
       "18                     19  {'knn__n_neighbors': 19}           0.942857   \n",
       "19                     20  {'knn__n_neighbors': 20}           0.942857   \n",
       "20                     21  {'knn__n_neighbors': 21}           0.945238   \n",
       "21                     22  {'knn__n_neighbors': 22}           0.942857   \n",
       "22                     23  {'knn__n_neighbors': 23}           0.947619   \n",
       "23                     24  {'knn__n_neighbors': 24}           0.942857   \n",
       "24                     25  {'knn__n_neighbors': 25}           0.945238   \n",
       "25                     26  {'knn__n_neighbors': 26}           0.940476   \n",
       "26                     27  {'knn__n_neighbors': 27}           0.945238   \n",
       "27                     28  {'knn__n_neighbors': 28}           0.942857   \n",
       "28                     29  {'knn__n_neighbors': 29}           0.945238   \n",
       "\n",
       "    split1_test_score  split2_test_score  split3_test_score  \\\n",
       "0            0.873810           0.890476           0.892857   \n",
       "1            0.895238           0.909524           0.914286   \n",
       "2            0.909524           0.919048           0.916667   \n",
       "3            0.909524           0.930952           0.911905   \n",
       "4            0.916667           0.933333           0.921429   \n",
       "5            0.919048           0.921429           0.926190   \n",
       "6            0.914286           0.933333           0.928571   \n",
       "7            0.919048           0.938095           0.930952   \n",
       "8            0.909524           0.938095           0.930952   \n",
       "9            0.909524           0.942857           0.938095   \n",
       "10           0.907143           0.940476           0.928571   \n",
       "11           0.907143           0.940476           0.930952   \n",
       "12           0.907143           0.942857           0.926190   \n",
       "13           0.911905           0.942857           0.930952   \n",
       "14           0.907143           0.940476           0.921429   \n",
       "15           0.909524           0.940476           0.926190   \n",
       "16           0.909524           0.938095           0.921429   \n",
       "17           0.911905           0.942857           0.926190   \n",
       "18           0.911905           0.945238           0.923810   \n",
       "19           0.914286           0.945238           0.926190   \n",
       "20           0.911905           0.945238           0.921429   \n",
       "21           0.911905           0.942857           0.921429   \n",
       "22           0.911905           0.942857           0.921429   \n",
       "23           0.914286           0.945238           0.923810   \n",
       "24           0.911905           0.940476           0.923810   \n",
       "25           0.914286           0.942857           0.926190   \n",
       "26           0.911905           0.942857           0.926190   \n",
       "27           0.911905           0.940476           0.923810   \n",
       "28           0.911905           0.938095           0.926190   \n",
       "\n",
       "    split4_test_score  mean_test_score  std_test_score  rank_test_score  \n",
       "0            0.909524         0.894286        0.012472               29  \n",
       "1            0.895238         0.902381        0.007968               28  \n",
       "2            0.916667         0.916667        0.003984               27  \n",
       "3            0.909524         0.918571        0.010146               26  \n",
       "4            0.928571         0.924762        0.005754               24  \n",
       "5            0.916667         0.921905        0.003810               25  \n",
       "6            0.923810         0.925714        0.006459               22  \n",
       "7            0.916667         0.926190        0.007825               20  \n",
       "8            0.930952         0.927143        0.009595               17  \n",
       "9            0.919048         0.927143        0.012196               17  \n",
       "10           0.919048         0.924762        0.011127               23  \n",
       "11           0.923810         0.927143        0.011329               17  \n",
       "12           0.923810         0.927619        0.012472               15  \n",
       "13           0.919048         0.928095        0.011208               13  \n",
       "14           0.921429         0.926190        0.012778               21  \n",
       "15           0.926190         0.928571        0.011468               12  \n",
       "16           0.930952         0.927619        0.010921               16  \n",
       "17           0.928571         0.930000        0.011127                8  \n",
       "18           0.930952         0.930952        0.012326                3  \n",
       "19           0.930952         0.931905        0.011329                1  \n",
       "20           0.935714         0.931905        0.013265                2  \n",
       "21           0.928571         0.929524        0.012103                9  \n",
       "22           0.928571         0.930476        0.013248                7  \n",
       "23           0.928571         0.930952        0.011664                3  \n",
       "24           0.923810         0.929048        0.012178               10  \n",
       "25           0.928571         0.930476        0.010367                5  \n",
       "26           0.926190         0.930476        0.012271                5  \n",
       "27           0.926190         0.929048        0.011409               10  \n",
       "28           0.919048         0.928095        0.012178               13  "
      ]
     },
     "execution_count": 31,
     "metadata": {},
     "output_type": "execute_result"
    }
   ],
   "source": [
    "pd.DataFrame(full_cv_classifier.cv_results_)"
   ]
  },
  {
   "cell_type": "markdown",
   "metadata": {},
   "source": [
    "# Final Model"
   ]
  },
  {
   "cell_type": "code",
   "execution_count": 35,
   "metadata": {},
   "outputs": [
    {
     "data": {
      "text/plain": [
       "KNeighborsClassifier(n_neighbors=14)"
      ]
     },
     "execution_count": 35,
     "metadata": {},
     "output_type": "execute_result"
    }
   ],
   "source": [
    "knn_model = KNeighborsClassifier(n_neighbors=14)\n",
    "knn_model.fit(scaled_X_train,y_train)"
   ]
  },
  {
   "cell_type": "code",
   "execution_count": 36,
   "metadata": {},
   "outputs": [],
   "source": [
    "y_pred = knn_model.predict(scaled_X_test)"
   ]
  },
  {
   "cell_type": "markdown",
   "metadata": {},
   "source": [
    "### Performance Evaluation"
   ]
  },
  {
   "cell_type": "code",
   "execution_count": 37,
   "metadata": {},
   "outputs": [
    {
     "data": {
      "text/plain": [
       "0.9355555555555556"
      ]
     },
     "execution_count": 37,
     "metadata": {},
     "output_type": "execute_result"
    }
   ],
   "source": [
    "# Accuracy Score\n",
    "\n",
    "accuracy_score(y_test,y_pred)"
   ]
  },
  {
   "cell_type": "code",
   "execution_count": 41,
   "metadata": {},
   "outputs": [
    {
     "data": {
      "text/plain": [
       "<sklearn.metrics._plot.confusion_matrix.ConfusionMatrixDisplay at 0x1a253cfcd0>"
      ]
     },
     "execution_count": 41,
     "metadata": {},
     "output_type": "execute_result"
    },
    {
     "data": {
      "image/png": "[encoded data removed]",
      "text/plain": [
       "<Figure size 432x288 with 2 Axes>"
      ]
     },
     "metadata": {
      "needs_background": "light"
     },
     "output_type": "display_data"
    }
   ],
   "source": [
    "# Confusion Matrix\n",
    "\n",
    "plot_confusion_matrix(knn_model,scaled_X_test,y_test, normalize='all')"
   ]
  },
  {
   "cell_type": "code",
   "execution_count": 42,
   "metadata": {},
   "outputs": [
    {
     "data": {
      "text/plain": [
       "array([[393,  30],\n",
       "       [ 28, 449]])"
      ]
     },
     "execution_count": 42,
     "metadata": {},
     "output_type": "execute_result"
    }
   ],
   "source": [
    "confusion_matrix(y_test,y_pred)"
   ]
  },
  {
   "cell_type": "code",
   "execution_count": 43,
   "metadata": {},
   "outputs": [
    {
     "name": "stdout",
     "output_type": "stream",
     "text": [
      "              precision    recall  f1-score   support\n",
      "\n",
      "           0       0.93      0.93      0.93       423\n",
      "           1       0.94      0.94      0.94       477\n",
      "\n",
      "    accuracy                           0.94       900\n",
      "   macro avg       0.94      0.94      0.94       900\n",
      "weighted avg       0.94      0.94      0.94       900\n",
      "\n"
     ]
    }
   ],
   "source": [
    "# Classification Matrix Report\n",
    "\n",
    "print(classification_report(y_test,y_pred))"
   ]
  },
  {
   "cell_type": "markdown",
   "metadata": {},
   "source": [
    "### AUC Curves Evaluation"
   ]
  },
  {
   "cell_type": "code",
   "execution_count": 44,
   "metadata": {},
   "outputs": [],
   "source": [
    "from sklearn.metrics import precision_recall_curve,plot_precision_recall_curve,plot_roc_curve"
   ]
  },
  {
   "cell_type": "code",
   "execution_count": 46,
   "metadata": {},
   "outputs": [
    {
     "data": {
      "text/plain": [
       "<sklearn.metrics._plot.precision_recall_curve.PrecisionRecallDisplay at 0x1a25522210>"
      ]
     },
     "execution_count": 46,
     "metadata": {},
     "output_type": "execute_result"
    },
    {
     "data": {
      "image/png": "[encoded data removed]",
      "text/plain": [
       "<Figure size 432x288 with 1 Axes>"
      ]
     },
     "metadata": {
      "needs_background": "light"
     },
     "output_type": "display_data"
    }
   ],
   "source": [
    "plot_precision_recall_curve(knn_model,scaled_X_test,y_test)"
   ]
  },
  {
   "cell_type": "code",
   "execution_count": 48,
   "metadata": {},
   "outputs": [
    {
     "data": {
      "text/plain": [
       "<sklearn.metrics._plot.roc_curve.RocCurveDisplay at 0x1a25691e10>"
      ]
     },
     "execution_count": 48,
     "metadata": {},
     "output_type": "execute_result"
    },
    {
     "data": {
      "image/png": "[encoded data removed]",
      "text/plain": [
       "<Figure size 432x288 with 1 Axes>"
      ]
     },
     "metadata": {
      "needs_background": "light"
     },
     "output_type": "display_data"
    }
   ],
   "source": [
    "plot_roc_curve(knn_model,scaled_X_test,y_test)"
   ]
  },
  {
   "cell_type": "code",
   "execution_count": 49,
   "metadata": {},
   "outputs": [],
   "source": [
    "from sklearn.metrics import precision_score, recall_score, f1_score"
   ]
  },
  {
   "cell_type": "code",
   "execution_count": 51,
   "metadata": {},
   "outputs": [
    {
     "data": {
      "text/plain": [
       "0.9373695198329853"
      ]
     },
     "execution_count": 51,
     "metadata": {},
     "output_type": "execute_result"
    }
   ],
   "source": [
    "# Precision Score\n",
    "\n",
    "precision_score(y_test,y_pred)"
   ]
  },
  {
   "cell_type": "code",
   "execution_count": 52,
   "metadata": {},
   "outputs": [
    {
     "data": {
      "text/plain": [
       "0.9412997903563941"
      ]
     },
     "execution_count": 52,
     "metadata": {},
     "output_type": "execute_result"
    }
   ],
   "source": [
    "# Recall Score\n",
    "\n",
    "recall_score(y_test,y_pred)"
   ]
  },
  {
   "cell_type": "code",
   "execution_count": 53,
   "metadata": {},
   "outputs": [
    {
     "data": {
      "text/plain": [
       "0.9393305439330544"
      ]
     },
     "execution_count": 53,
     "metadata": {},
     "output_type": "execute_result"
    }
   ],
   "source": [
    "# F1 Score\n",
    "\n",
    "f1_score(y_test,y_pred)"
   ]
  }
 ],
 "metadata": {
  "kernelspec": {
   "display_name": "Python 3",
   "language": "python",
   "name": "python3"
  },
  "language_info": {
   "codemirror_mode": {
    "name": "ipython",
    "version": 3
   },
   "file_extension": ".py",
   "mimetype": "text/x-python",
   "name": "python",
   "nbconvert_exporter": "python",
   "pygments_lexer": "ipython3",
   "version": "3.7.6"
  }
 },
 "nbformat": 4,
 "nbformat_minor": 4
}
