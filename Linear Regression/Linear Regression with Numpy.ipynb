{
 "cells": [
  {
   "cell_type": "markdown",
   "metadata": {},
   "source": [
    "Practice ML as part of Python for Machine Learning and Data Science MasterClass 2021 (Jose Portilla)"
   ]
  },
  {
   "cell_type": "code",
   "execution_count": 8,
   "metadata": {},
   "outputs": [],
   "source": [
    "# Import Package\n",
    "\n",
    "import numpy as np\n",
    "import pandas as pd\n",
    "import matplotlib.pyplot as plt\n",
    "import seaborn as sns\n",
    "import scipy.stats"
   ]
  },
  {
   "cell_type": "raw",
   "metadata": {},
   "source": [
    "# Data\n",
    "\n",
    "Simple advertising data that contains display \"sales\" (in thousand of units) and advertising budget from \"TV\", \"radio\" and \"newspaper\"."
   ]
  },
  {
   "cell_type": "code",
   "execution_count": 2,
   "metadata": {},
   "outputs": [],
   "source": [
    "# Import Data\n",
    "\n",
    "df = pd.read_csv('Advertising.csv')"
   ]
  },
  {
   "cell_type": "code",
   "execution_count": 3,
   "metadata": {},
   "outputs": [
    {
     "data": {
      "text/html": [
       "<div>\n",
       "<style scoped>\n",
       "    .dataframe tbody tr th:only-of-type {\n",
       "        vertical-align: middle;\n",
       "    }\n",
       "\n",
       "    .dataframe tbody tr th {\n",
       "        vertical-align: top;\n",
       "    }\n",
       "\n",
       "    .dataframe thead th {\n",
       "        text-align: right;\n",
       "    }\n",
       "</style>\n",
       "<table border=\"1\" class=\"dataframe\">\n",
       "  <thead>\n",
       "    <tr style=\"text-align: right;\">\n",
       "      <th></th>\n",
       "      <th>TV</th>\n",
       "      <th>radio</th>\n",
       "      <th>newspaper</th>\n",
       "      <th>sales</th>\n",
       "    </tr>\n",
       "  </thead>\n",
       "  <tbody>\n",
       "    <tr>\n",
       "      <th>0</th>\n",
       "      <td>230.1</td>\n",
       "      <td>37.8</td>\n",
       "      <td>69.2</td>\n",
       "      <td>22.1</td>\n",
       "    </tr>\n",
       "    <tr>\n",
       "      <th>1</th>\n",
       "      <td>44.5</td>\n",
       "      <td>39.3</td>\n",
       "      <td>45.1</td>\n",
       "      <td>10.4</td>\n",
       "    </tr>\n",
       "    <tr>\n",
       "      <th>2</th>\n",
       "      <td>17.2</td>\n",
       "      <td>45.9</td>\n",
       "      <td>69.3</td>\n",
       "      <td>9.3</td>\n",
       "    </tr>\n",
       "    <tr>\n",
       "      <th>3</th>\n",
       "      <td>151.5</td>\n",
       "      <td>41.3</td>\n",
       "      <td>58.5</td>\n",
       "      <td>18.5</td>\n",
       "    </tr>\n",
       "    <tr>\n",
       "      <th>4</th>\n",
       "      <td>180.8</td>\n",
       "      <td>10.8</td>\n",
       "      <td>58.4</td>\n",
       "      <td>12.9</td>\n",
       "    </tr>\n",
       "    <tr>\n",
       "      <th>...</th>\n",
       "      <td>...</td>\n",
       "      <td>...</td>\n",
       "      <td>...</td>\n",
       "      <td>...</td>\n",
       "    </tr>\n",
       "    <tr>\n",
       "      <th>195</th>\n",
       "      <td>38.2</td>\n",
       "      <td>3.7</td>\n",
       "      <td>13.8</td>\n",
       "      <td>7.6</td>\n",
       "    </tr>\n",
       "    <tr>\n",
       "      <th>196</th>\n",
       "      <td>94.2</td>\n",
       "      <td>4.9</td>\n",
       "      <td>8.1</td>\n",
       "      <td>9.7</td>\n",
       "    </tr>\n",
       "    <tr>\n",
       "      <th>197</th>\n",
       "      <td>177.0</td>\n",
       "      <td>9.3</td>\n",
       "      <td>6.4</td>\n",
       "      <td>12.8</td>\n",
       "    </tr>\n",
       "    <tr>\n",
       "      <th>198</th>\n",
       "      <td>283.6</td>\n",
       "      <td>42.0</td>\n",
       "      <td>66.2</td>\n",
       "      <td>25.5</td>\n",
       "    </tr>\n",
       "    <tr>\n",
       "      <th>199</th>\n",
       "      <td>232.1</td>\n",
       "      <td>8.6</td>\n",
       "      <td>8.7</td>\n",
       "      <td>13.4</td>\n",
       "    </tr>\n",
       "  </tbody>\n",
       "</table>\n",
       "<p>200 rows × 4 columns</p>\n",
       "</div>"
      ],
      "text/plain": [
       "        TV  radio  newspaper  sales\n",
       "0    230.1   37.8       69.2   22.1\n",
       "1     44.5   39.3       45.1   10.4\n",
       "2     17.2   45.9       69.3    9.3\n",
       "3    151.5   41.3       58.5   18.5\n",
       "4    180.8   10.8       58.4   12.9\n",
       "..     ...    ...        ...    ...\n",
       "195   38.2    3.7       13.8    7.6\n",
       "196   94.2    4.9        8.1    9.7\n",
       "197  177.0    9.3        6.4   12.8\n",
       "198  283.6   42.0       66.2   25.5\n",
       "199  232.1    8.6        8.7   13.4\n",
       "\n",
       "[200 rows x 4 columns]"
      ]
     },
     "execution_count": 3,
     "metadata": {},
     "output_type": "execute_result"
    }
   ],
   "source": [
    "df"
   ]
  },
  {
   "cell_type": "code",
   "execution_count": 67,
   "metadata": {},
   "outputs": [],
   "source": [
    "# Total Spend column\n",
    "\n",
    "df['total_spend'] = df['TV'] + df['radio'] + df['newspaper']"
   ]
  },
  {
   "cell_type": "code",
   "execution_count": 68,
   "metadata": {},
   "outputs": [
    {
     "data": {
      "text/html": [
       "<div>\n",
       "<style scoped>\n",
       "    .dataframe tbody tr th:only-of-type {\n",
       "        vertical-align: middle;\n",
       "    }\n",
       "\n",
       "    .dataframe tbody tr th {\n",
       "        vertical-align: top;\n",
       "    }\n",
       "\n",
       "    .dataframe thead th {\n",
       "        text-align: right;\n",
       "    }\n",
       "</style>\n",
       "<table border=\"1\" class=\"dataframe\">\n",
       "  <thead>\n",
       "    <tr style=\"text-align: right;\">\n",
       "      <th></th>\n",
       "      <th>TV</th>\n",
       "      <th>radio</th>\n",
       "      <th>newspaper</th>\n",
       "      <th>sales</th>\n",
       "      <th>total_spend</th>\n",
       "    </tr>\n",
       "  </thead>\n",
       "  <tbody>\n",
       "    <tr>\n",
       "      <th>0</th>\n",
       "      <td>230.1</td>\n",
       "      <td>37.8</td>\n",
       "      <td>69.2</td>\n",
       "      <td>22.1</td>\n",
       "      <td>337.1</td>\n",
       "    </tr>\n",
       "    <tr>\n",
       "      <th>1</th>\n",
       "      <td>44.5</td>\n",
       "      <td>39.3</td>\n",
       "      <td>45.1</td>\n",
       "      <td>10.4</td>\n",
       "      <td>128.9</td>\n",
       "    </tr>\n",
       "    <tr>\n",
       "      <th>2</th>\n",
       "      <td>17.2</td>\n",
       "      <td>45.9</td>\n",
       "      <td>69.3</td>\n",
       "      <td>9.3</td>\n",
       "      <td>132.4</td>\n",
       "    </tr>\n",
       "    <tr>\n",
       "      <th>3</th>\n",
       "      <td>151.5</td>\n",
       "      <td>41.3</td>\n",
       "      <td>58.5</td>\n",
       "      <td>18.5</td>\n",
       "      <td>251.3</td>\n",
       "    </tr>\n",
       "    <tr>\n",
       "      <th>4</th>\n",
       "      <td>180.8</td>\n",
       "      <td>10.8</td>\n",
       "      <td>58.4</td>\n",
       "      <td>12.9</td>\n",
       "      <td>250.0</td>\n",
       "    </tr>\n",
       "    <tr>\n",
       "      <th>...</th>\n",
       "      <td>...</td>\n",
       "      <td>...</td>\n",
       "      <td>...</td>\n",
       "      <td>...</td>\n",
       "      <td>...</td>\n",
       "    </tr>\n",
       "    <tr>\n",
       "      <th>195</th>\n",
       "      <td>38.2</td>\n",
       "      <td>3.7</td>\n",
       "      <td>13.8</td>\n",
       "      <td>7.6</td>\n",
       "      <td>55.7</td>\n",
       "    </tr>\n",
       "    <tr>\n",
       "      <th>196</th>\n",
       "      <td>94.2</td>\n",
       "      <td>4.9</td>\n",
       "      <td>8.1</td>\n",
       "      <td>9.7</td>\n",
       "      <td>107.2</td>\n",
       "    </tr>\n",
       "    <tr>\n",
       "      <th>197</th>\n",
       "      <td>177.0</td>\n",
       "      <td>9.3</td>\n",
       "      <td>6.4</td>\n",
       "      <td>12.8</td>\n",
       "      <td>192.7</td>\n",
       "    </tr>\n",
       "    <tr>\n",
       "      <th>198</th>\n",
       "      <td>283.6</td>\n",
       "      <td>42.0</td>\n",
       "      <td>66.2</td>\n",
       "      <td>25.5</td>\n",
       "      <td>391.8</td>\n",
       "    </tr>\n",
       "    <tr>\n",
       "      <th>199</th>\n",
       "      <td>232.1</td>\n",
       "      <td>8.6</td>\n",
       "      <td>8.7</td>\n",
       "      <td>13.4</td>\n",
       "      <td>249.4</td>\n",
       "    </tr>\n",
       "  </tbody>\n",
       "</table>\n",
       "<p>200 rows × 5 columns</p>\n",
       "</div>"
      ],
      "text/plain": [
       "        TV  radio  newspaper  sales  total_spend\n",
       "0    230.1   37.8       69.2   22.1        337.1\n",
       "1     44.5   39.3       45.1   10.4        128.9\n",
       "2     17.2   45.9       69.3    9.3        132.4\n",
       "3    151.5   41.3       58.5   18.5        251.3\n",
       "4    180.8   10.8       58.4   12.9        250.0\n",
       "..     ...    ...        ...    ...          ...\n",
       "195   38.2    3.7       13.8    7.6         55.7\n",
       "196   94.2    4.9        8.1    9.7        107.2\n",
       "197  177.0    9.3        6.4   12.8        192.7\n",
       "198  283.6   42.0       66.2   25.5        391.8\n",
       "199  232.1    8.6        8.7   13.4        249.4\n",
       "\n",
       "[200 rows x 5 columns]"
      ]
     },
     "execution_count": 68,
     "metadata": {},
     "output_type": "execute_result"
    }
   ],
   "source": [
    "df"
   ]
  },
  {
   "cell_type": "code",
   "execution_count": 69,
   "metadata": {},
   "outputs": [
    {
     "data": {
      "text/plain": [
       "<matplotlib.axes._subplots.AxesSubplot at 0x1a18375850>"
      ]
     },
     "execution_count": 69,
     "metadata": {},
     "output_type": "execute_result"
    },
    {
     "data": {
      "image/png": "[encoded data removed]",
      "text/plain": [
       "<Figure size 432x288 with 1 Axes>"
      ]
     },
     "metadata": {
      "needs_background": "light"
     },
     "output_type": "display_data"
    }
   ],
   "source": [
    "# Plot Least Squares Line\n",
    "\n",
    "sns.regplot(x='total_spend',y='sales',data=df)"
   ]
  },
  {
   "cell_type": "code",
   "execution_count": 70,
   "metadata": {},
   "outputs": [],
   "source": [
    "# Define Variables\n",
    "\n",
    "X = df['total_spend']\n",
    "y = df['sales']"
   ]
  },
  {
   "cell_type": "code",
   "execution_count": 13,
   "metadata": {},
   "outputs": [
    {
     "name": "stdout",
     "output_type": "stream",
     "text": [
      "pearson :  (0.867712302701742, 5.059269918989033e-62)\n",
      "spearman :  SpearmanrResult(correlation=0.8770508999294694, pvalue=5.838808112194944e-65)\n"
     ]
    }
   ],
   "source": [
    "# Calculate Correlation\n",
    "\n",
    "# Pearson\n",
    "print('pearson : ', scipy.stats.pearsonr(X, y))\n",
    "      \n",
    "# Spearman\n",
    "print('spearman : ', scipy.stats.spearmanr(X, y))\n",
    "\n",
    "# results : quite high correlated between spending and sales."
   ]
  },
  {
   "cell_type": "raw",
   "metadata": {},
   "source": [
    "Pearson has assumptions that both variables should be normally distributed, linearity and homoscedasticity. On the other hand, Spearman is non-parametrics test which does not carry assumptions of data distribution."
   ]
  },
  {
   "cell_type": "raw",
   "metadata": {},
   "source": [
    "# Solving Simple Linear Regression\n",
    "\n",
    "𝑦̂ = 𝛽0+𝛽1𝑋"
   ]
  },
  {
   "cell_type": "code",
   "execution_count": 71,
   "metadata": {},
   "outputs": [],
   "source": [
    "B1,B0 = np.polyfit(X,y,1)"
   ]
  },
  {
   "cell_type": "code",
   "execution_count": 72,
   "metadata": {},
   "outputs": [
    {
     "data": {
      "text/plain": [
       "4.243028216036326"
      ]
     },
     "execution_count": 72,
     "metadata": {},
     "output_type": "execute_result"
    }
   ],
   "source": [
    "B0"
   ]
  },
  {
   "cell_type": "code",
   "execution_count": 73,
   "metadata": {},
   "outputs": [
    {
     "data": {
      "text/plain": [
       "0.04868787931904817"
      ]
     },
     "execution_count": 73,
     "metadata": {},
     "output_type": "execute_result"
    }
   ],
   "source": [
    "B1"
   ]
  },
  {
   "cell_type": "code",
   "execution_count": 74,
   "metadata": {},
   "outputs": [],
   "source": [
    "# Mapping Potential Spend and Predicted Sales\n",
    "\n",
    "potential_spend = np.linspace(0,500,200)\n",
    "predicted_sales = (B1*potential_spend) + B0"
   ]
  },
  {
   "cell_type": "code",
   "execution_count": 75,
   "metadata": {},
   "outputs": [
    {
     "data": {
      "text/plain": [
       "array([  0.        ,   2.51256281,   5.02512563,   7.53768844,\n",
       "        10.05025126,  12.56281407,  15.07537688,  17.5879397 ,\n",
       "        20.10050251,  22.61306533,  25.12562814,  27.63819095,\n",
       "        30.15075377,  32.66331658,  35.1758794 ,  37.68844221,\n",
       "        40.20100503,  42.71356784,  45.22613065,  47.73869347,\n",
       "        50.25125628,  52.7638191 ,  55.27638191,  57.78894472,\n",
       "        60.30150754,  62.81407035,  65.32663317,  67.83919598,\n",
       "        70.35175879,  72.86432161,  75.37688442,  77.88944724,\n",
       "        80.40201005,  82.91457286,  85.42713568,  87.93969849,\n",
       "        90.45226131,  92.96482412,  95.47738693,  97.98994975,\n",
       "       100.50251256, 103.01507538, 105.52763819, 108.04020101,\n",
       "       110.55276382, 113.06532663, 115.57788945, 118.09045226,\n",
       "       120.60301508, 123.11557789, 125.6281407 , 128.14070352,\n",
       "       130.65326633, 133.16582915, 135.67839196, 138.19095477,\n",
       "       140.70351759, 143.2160804 , 145.72864322, 148.24120603,\n",
       "       150.75376884, 153.26633166, 155.77889447, 158.29145729,\n",
       "       160.8040201 , 163.31658291, 165.82914573, 168.34170854,\n",
       "       170.85427136, 173.36683417, 175.87939698, 178.3919598 ,\n",
       "       180.90452261, 183.41708543, 185.92964824, 188.44221106,\n",
       "       190.95477387, 193.46733668, 195.9798995 , 198.49246231,\n",
       "       201.00502513, 203.51758794, 206.03015075, 208.54271357,\n",
       "       211.05527638, 213.5678392 , 216.08040201, 218.59296482,\n",
       "       221.10552764, 223.61809045, 226.13065327, 228.64321608,\n",
       "       231.15577889, 233.66834171, 236.18090452, 238.69346734,\n",
       "       241.20603015, 243.71859296, 246.23115578, 248.74371859,\n",
       "       251.25628141, 253.76884422, 256.28140704, 258.79396985,\n",
       "       261.30653266, 263.81909548, 266.33165829, 268.84422111,\n",
       "       271.35678392, 273.86934673, 276.38190955, 278.89447236,\n",
       "       281.40703518, 283.91959799, 286.4321608 , 288.94472362,\n",
       "       291.45728643, 293.96984925, 296.48241206, 298.99497487,\n",
       "       301.50753769, 304.0201005 , 306.53266332, 309.04522613,\n",
       "       311.55778894, 314.07035176, 316.58291457, 319.09547739,\n",
       "       321.6080402 , 324.12060302, 326.63316583, 329.14572864,\n",
       "       331.65829146, 334.17085427, 336.68341709, 339.1959799 ,\n",
       "       341.70854271, 344.22110553, 346.73366834, 349.24623116,\n",
       "       351.75879397, 354.27135678, 356.7839196 , 359.29648241,\n",
       "       361.80904523, 364.32160804, 366.83417085, 369.34673367,\n",
       "       371.85929648, 374.3718593 , 376.88442211, 379.39698492,\n",
       "       381.90954774, 384.42211055, 386.93467337, 389.44723618,\n",
       "       391.95979899, 394.47236181, 396.98492462, 399.49748744,\n",
       "       402.01005025, 404.52261307, 407.03517588, 409.54773869,\n",
       "       412.06030151, 414.57286432, 417.08542714, 419.59798995,\n",
       "       422.11055276, 424.62311558, 427.13567839, 429.64824121,\n",
       "       432.16080402, 434.67336683, 437.18592965, 439.69849246,\n",
       "       442.21105528, 444.72361809, 447.2361809 , 449.74874372,\n",
       "       452.26130653, 454.77386935, 457.28643216, 459.79899497,\n",
       "       462.31155779, 464.8241206 , 467.33668342, 469.84924623,\n",
       "       472.36180905, 474.87437186, 477.38693467, 479.89949749,\n",
       "       482.4120603 , 484.92462312, 487.43718593, 489.94974874,\n",
       "       492.46231156, 494.97487437, 497.48743719, 500.        ])"
      ]
     },
     "execution_count": 75,
     "metadata": {},
     "output_type": "execute_result"
    }
   ],
   "source": [
    "potential_spend"
   ]
  },
  {
   "cell_type": "code",
   "execution_count": 76,
   "metadata": {},
   "outputs": [
    {
     "data": {
      "text/plain": [
       "array([ 4.24302822,  4.36535957,  4.48769093,  4.61002228,  4.73235364,\n",
       "        4.85468499,  4.97701635,  5.0993477 ,  5.22167906,  5.34401041,\n",
       "        5.46634177,  5.58867312,  5.71100448,  5.83333583,  5.95566719,\n",
       "        6.07799854,  6.2003299 ,  6.32266125,  6.44499261,  6.56732396,\n",
       "        6.68965532,  6.81198667,  6.93431803,  7.05664938,  7.17898074,\n",
       "        7.30131209,  7.42364345,  7.5459748 ,  7.66830616,  7.79063751,\n",
       "        7.91296887,  8.03530022,  8.15763158,  8.27996293,  8.40229429,\n",
       "        8.52462564,  8.646957  ,  8.76928835,  8.89161971,  9.01395106,\n",
       "        9.13628242,  9.25861377,  9.38094513,  9.50327648,  9.62560784,\n",
       "        9.74793919,  9.87027055,  9.9926019 , 10.11493326, 10.23726461,\n",
       "       10.35959597, 10.48192732, 10.60425868, 10.72659003, 10.84892139,\n",
       "       10.97125275, 11.0935841 , 11.21591546, 11.33824681, 11.46057817,\n",
       "       11.58290952, 11.70524088, 11.82757223, 11.94990359, 12.07223494,\n",
       "       12.1945663 , 12.31689765, 12.43922901, 12.56156036, 12.68389172,\n",
       "       12.80622307, 12.92855443, 13.05088578, 13.17321714, 13.29554849,\n",
       "       13.41787985, 13.5402112 , 13.66254256, 13.78487391, 13.90720527,\n",
       "       14.02953662, 14.15186798, 14.27419933, 14.39653069, 14.51886204,\n",
       "       14.6411934 , 14.76352475, 14.88585611, 15.00818746, 15.13051882,\n",
       "       15.25285017, 15.37518153, 15.49751288, 15.61984424, 15.74217559,\n",
       "       15.86450695, 15.9868383 , 16.10916966, 16.23150101, 16.35383237,\n",
       "       16.47616372, 16.59849508, 16.72082643, 16.84315779, 16.96548914,\n",
       "       17.0878205 , 17.21015185, 17.33248321, 17.45481456, 17.57714592,\n",
       "       17.69947727, 17.82180863, 17.94413998, 18.06647134, 18.18880269,\n",
       "       18.31113405, 18.4334654 , 18.55579676, 18.67812811, 18.80045947,\n",
       "       18.92279082, 19.04512218, 19.16745353, 19.28978489, 19.41211625,\n",
       "       19.5344476 , 19.65677896, 19.77911031, 19.90144167, 20.02377302,\n",
       "       20.14610438, 20.26843573, 20.39076709, 20.51309844, 20.6354298 ,\n",
       "       20.75776115, 20.88009251, 21.00242386, 21.12475522, 21.24708657,\n",
       "       21.36941793, 21.49174928, 21.61408064, 21.73641199, 21.85874335,\n",
       "       21.9810747 , 22.10340606, 22.22573741, 22.34806877, 22.47040012,\n",
       "       22.59273148, 22.71506283, 22.83739419, 22.95972554, 23.0820569 ,\n",
       "       23.20438825, 23.32671961, 23.44905096, 23.57138232, 23.69371367,\n",
       "       23.81604503, 23.93837638, 24.06070774, 24.18303909, 24.30537045,\n",
       "       24.4277018 , 24.55003316, 24.67236451, 24.79469587, 24.91702722,\n",
       "       25.03935858, 25.16168993, 25.28402129, 25.40635264, 25.528684  ,\n",
       "       25.65101535, 25.77334671, 25.89567806, 26.01800942, 26.14034077,\n",
       "       26.26267213, 26.38500348, 26.50733484, 26.62966619, 26.75199755,\n",
       "       26.8743289 , 26.99666026, 27.11899161, 27.24132297, 27.36365432,\n",
       "       27.48598568, 27.60831703, 27.73064839, 27.85297975, 27.9753111 ,\n",
       "       28.09764246, 28.21997381, 28.34230517, 28.46463652, 28.58696788])"
      ]
     },
     "execution_count": 76,
     "metadata": {},
     "output_type": "execute_result"
    }
   ],
   "source": [
    "predicted_sales"
   ]
  },
  {
   "cell_type": "code",
   "execution_count": 77,
   "metadata": {},
   "outputs": [
    {
     "data": {
      "text/plain": [
       "[<matplotlib.lines.Line2D at 0x1a187c6150>]"
      ]
     },
     "execution_count": 77,
     "metadata": {},
     "output_type": "execute_result"
    },
    {
     "data": {
      "image/png": "[encoded data removed]",
      "text/plain": [
       "<Figure size 432x288 with 1 Axes>"
      ]
     },
     "metadata": {
      "needs_background": "light"
     },
     "output_type": "display_data"
    }
   ],
   "source": [
    "plt.plot(potential_spend,predicted_sales)"
   ]
  },
  {
   "cell_type": "code",
   "execution_count": 78,
   "metadata": {},
   "outputs": [
    {
     "data": {
      "text/plain": [
       "[<matplotlib.lines.Line2D at 0x1a185cadd0>]"
      ]
     },
     "execution_count": 78,
     "metadata": {},
     "output_type": "execute_result"
    },
    {
     "data": {
      "image/png": "[encoded data removed]",
      "text/plain": [
       "<Figure size 432x288 with 1 Axes>"
      ]
     },
     "metadata": {
      "needs_background": "light"
     },
     "output_type": "display_data"
    }
   ],
   "source": [
    "# Plot Results\n",
    "\n",
    "sns.scatterplot(x='total_spend',y='sales',data=df)\n",
    "plt.plot(potential_spend,predicted_sales,color='red')"
   ]
  },
  {
   "cell_type": "code",
   "execution_count": 79,
   "metadata": {},
   "outputs": [
    {
     "name": "stdout",
     "output_type": "stream",
     "text": [
      "when total spend = 300, then sales is predicted to be =  18.84939201175078\n"
     ]
    }
   ],
   "source": [
    "# Questions : predict sales when total spend is equal to 300\n",
    "\n",
    "predicted_sales_300 = (B1*300) + B0\n",
    "print('when total spend = 300, then sales is predicted to be = ',predicted_sales_300)"
   ]
  }
 ],
 "metadata": {
  "kernelspec": {
   "display_name": "Python 3",
   "language": "python",
   "name": "python3"
  },
  "language_info": {
   "codemirror_mode": {
    "name": "ipython",
    "version": 3
   },
   "file_extension": ".py",
   "mimetype": "text/x-python",
   "name": "python",
   "nbconvert_exporter": "python",
   "pygments_lexer": "ipython3",
   "version": "3.7.6"
  }
 },
 "nbformat": 4,
 "nbformat_minor": 4
}
